{
  "nbformat": 4,
  "nbformat_minor": 0,
  "metadata": {
    "colab": {
      "provenance": [],
      "authorship_tag": "ABX9TyPEB3yrn1OJkAUWUXP/6j66",
      "include_colab_link": true
    },
    "kernelspec": {
      "name": "python3",
      "display_name": "Python 3"
    },
    "language_info": {
      "name": "python"
    }
  },
  "cells": [
    {
      "cell_type": "markdown",
      "metadata": {
        "id": "view-in-github",
        "colab_type": "text"
      },
      "source": [
        "<a href=\"https://colab.research.google.com/github/Deadkiller43/Langchain/blob/main/Task1/CLIchatbot.ipynb\" target=\"_parent\"><img src=\"https://colab.research.google.com/assets/colab-badge.svg\" alt=\"Open In Colab\"/></a>"
      ]
    },
    {
      "cell_type": "code",
      "execution_count": null,
      "metadata": {
        "colab": {
          "base_uri": "https://localhost:8080/"
        },
        "id": "-0m7w534Oq8F",
        "outputId": "b16255e2-3c8b-4eaa-9ec3-a03437f07fe9"
      },
      "outputs": [
        {
          "output_type": "stream",
          "name": "stdout",
          "text": [
            "Loading Mistral-7B-Instruct model. This may take a few minutes on CPU...\n"
          ]
        }
      ],
      "source": [
        "from transformers import pipeline, AutoTokenizer, AutoModelForCausalLM\n",
        "from collections import deque\n",
        "import torch\n",
        "\n",
        "class ModelLoader:\n",
        "    def __init__(self, model_name=\"TinyLlama/TinyLlama-1.1B-Chat-v1.0\"):\n",
        "        self.model_name = model_name\n",
        "\n",
        "    def load(self):\n",
        "        print(\"Loading Mistral-7B-Instruct model. This may take a few minutes on CPU...\")\n",
        "        tokenizer = AutoTokenizer.from_pretrained(self.model_name)\n",
        "        model = AutoModelForCausalLM.from_pretrained(\n",
        "            self.model_name\n",
        "        )\n",
        "        generator = pipeline(\"text-generation\", model=model, tokenizer=tokenizer)\n",
        "        print(\"Model loaded successfully.\")\n",
        "        return generator\n",
        "\n",
        "class ChatMemory:\n",
        "    def __init__(self, max_turns=3):\n",
        "        self.memory = deque(maxlen=max_turns)\n",
        "\n",
        "    def add(self, user_input, bot_reply):\n",
        "        self.memory.append((user_input, bot_reply))\n",
        "\n",
        "    def get_context(self):\n",
        "        return \"\\n\".join([f\"User: {u}\\nAssistant: {b}\" for u, b in self.memory])\n",
        "\n",
        "class Chatbot:\n",
        "    def __init__(self):\n",
        "        self.model_loader = ModelLoader()\n",
        "        self.generator = self.model_loader.load()\n",
        "        self.chat_memory = ChatMemory()\n",
        "\n",
        "    def run(self):\n",
        "        print(\"Chatbot started. Type /exit to quit.\")\n",
        "        while True:\n",
        "            user_input = input(\"User: \")\n",
        "            if user_input.strip().lower() == \"/exit\":\n",
        "                print(\"Exiting chatbot. Goodbye!\")\n",
        "                break\n",
        "\n",
        "            history = self.chat_memory.get_context()\n",
        "            prompt = f\"{history}\\nUser: {user_input}\\nAssistant:\"\n",
        "\n",
        "            output = self.generator(prompt, max_new_tokens=100, temperature=0.7)\n",
        "            full_text = output[0][\"generated_text\"]\n",
        "            bot_reply = full_text[len(prompt):].strip().split(\"\\n\")[0]\n",
        "\n",
        "            print(\"Bot:\", bot_reply)\n",
        "            self.chat_memory.add(user_input, bot_reply)\n",
        "if __name__ == \"__main__\":\n",
        "    Chatbot().run()\n"
      ]
    },
    {
      "cell_type": "code",
      "source": [],
      "metadata": {
        "id": "l608v8Rfaq9c"
      },
      "execution_count": null,
      "outputs": []
    }
  ]
}